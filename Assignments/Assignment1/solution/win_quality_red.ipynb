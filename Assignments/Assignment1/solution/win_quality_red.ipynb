{
  "nbformat": 4,
  "nbformat_minor": 0,
  "metadata": {
    "colab": {
      "name": "win_quality_red.ipynb",
      "provenance": []
    },
    "kernelspec": {
      "name": "python3",
      "display_name": "Python 3"
    }
  },
  "cells": [
    {
      "cell_type": "code",
      "metadata": {
        "colab": {
          "base_uri": "https://localhost:8080/"
        },
        "id": "R4_aC8Xmy9ZB",
        "outputId": "7ff9a40d-135d-446a-fe40-d1438f0b63a2"
      },
      "source": [
        "from google.colab import drive\n",
        "drive.mount('/content/drive')"
      ],
      "execution_count": 2,
      "outputs": [
        {
          "output_type": "stream",
          "text": [
            "Drive already mounted at /content/drive; to attempt to forcibly remount, call drive.mount(\"/content/drive\", force_remount=True).\n"
          ],
          "name": "stdout"
        }
      ]
    },
    {
      "cell_type": "code",
      "metadata": {
        "id": "qh4DPmvt1Sv-"
      },
      "source": [
        "#Load Libraries\n",
        "import pandas as pd\n",
        "from pandas import read_csv\n",
        "from pandas.plotting import scatter_matrix\n",
        "from matplotlib import pyplot as plt\n",
        "from matplotlib.pyplot import figure\n",
        "\n",
        "from sklearn.model_selection import train_test_split\n",
        "from sklearn.model_selection import KFold\n",
        "from sklearn.model_selection import cross_val_score\n",
        "from sklearn.metrics import classification_report\n",
        "from sklearn.metrics import confusion_matrix\n",
        "from sklearn.metrics import accuracy_score\n",
        "from sklearn.linear_model import LogisticRegression\n",
        "from sklearn.tree import  DecisionTreeClassifier\n",
        "from sklearn.neighbors import KNeighborsClassifier\n",
        "from sklearn.discriminant_analysis import LinearDiscriminantAnalysis\n",
        "from sklearn.naive_bayes import GaussianNB\n",
        "from sklearn.svm import SVC\n"
      ],
      "execution_count": 17,
      "outputs": []
    },
    {
      "cell_type": "code",
      "metadata": {
        "id": "bijvU2ko7UBM"
      },
      "source": [
        "#load the dataset\n",
        "filename = '/content/drive/MyDrive/Colab Notebooks/Deep_learning_KickStart/Assignments/winequality-red.csv'\n",
        "names = [\"fixed acidity\", \"volatile acidity\", \"citric acid\", \"residual sugar\", \"chlorides\", \"free sulfur dioxide\", \"total sulfur dioxide\", \"density\", \"pH\", \"sulphates\", \"alcohol\", \"quality\"] #specify the header of fields name, can also be extracted from txt file\n",
        "dataset = read_csv(filename, names = names, delimiter=';', header=1)"
      ],
      "execution_count": 4,
      "outputs": []
    },
    {
      "cell_type": "code",
      "metadata": {
        "colab": {
          "base_uri": "https://localhost:8080/"
        },
        "id": "mE36StRP8xwG",
        "outputId": "aec92459-7ff0-4c6a-a247-7b61a9bf7605"
      },
      "source": [
        "print(dataset.shape)#shows the row and column of the dataset"
      ],
      "execution_count": 5,
      "outputs": [
        {
          "output_type": "stream",
          "text": [
            "(1598, 12)\n"
          ],
          "name": "stdout"
        }
      ]
    },
    {
      "cell_type": "code",
      "metadata": {
        "colab": {
          "base_uri": "https://localhost:8080/"
        },
        "id": "OUw-cZxh8zRA",
        "outputId": "6a8ef859-978c-4daa-b0d5-b0ce3ed2e651"
      },
      "source": [
        "print(dataset.head(20))#prints the first 20 rows of dataset"
      ],
      "execution_count": 6,
      "outputs": [
        {
          "output_type": "stream",
          "text": [
            "    fixed acidity  volatile acidity  citric acid  ...  sulphates  alcohol  quality\n",
            "0             7.8             0.880         0.00  ...       0.68      9.8        5\n",
            "1             7.8             0.760         0.04  ...       0.65      9.8        5\n",
            "2            11.2             0.280         0.56  ...       0.58      9.8        6\n",
            "3             7.4             0.700         0.00  ...       0.56      9.4        5\n",
            "4             7.4             0.660         0.00  ...       0.56      9.4        5\n",
            "5             7.9             0.600         0.06  ...       0.46      9.4        5\n",
            "6             7.3             0.650         0.00  ...       0.47     10.0        7\n",
            "7             7.8             0.580         0.02  ...       0.57      9.5        7\n",
            "8             7.5             0.500         0.36  ...       0.80     10.5        5\n",
            "9             6.7             0.580         0.08  ...       0.54      9.2        5\n",
            "10            7.5             0.500         0.36  ...       0.80     10.5        5\n",
            "11            5.6             0.615         0.00  ...       0.52      9.9        5\n",
            "12            7.8             0.610         0.29  ...       1.56      9.1        5\n",
            "13            8.9             0.620         0.18  ...       0.88      9.2        5\n",
            "14            8.9             0.620         0.19  ...       0.93      9.2        5\n",
            "15            8.5             0.280         0.56  ...       0.75     10.5        7\n",
            "16            8.1             0.560         0.28  ...       1.28      9.3        5\n",
            "17            7.4             0.590         0.08  ...       0.50      9.0        4\n",
            "18            7.9             0.320         0.51  ...       1.08      9.2        6\n",
            "19            8.9             0.220         0.48  ...       0.53      9.4        6\n",
            "\n",
            "[20 rows x 12 columns]\n"
          ],
          "name": "stdout"
        }
      ]
    },
    {
      "cell_type": "code",
      "metadata": {
        "colab": {
          "base_uri": "https://localhost:8080/"
        },
        "id": "acffFyNp814G",
        "outputId": "5ce3ad35-9981-4457-c42e-211dc555adc9"
      },
      "source": [
        "print(dataset.describe())#shows some statistical values about the dataset"
      ],
      "execution_count": 7,
      "outputs": [
        {
          "output_type": "stream",
          "text": [
            "       fixed acidity  volatile acidity  ...      alcohol      quality\n",
            "count    1598.000000       1598.000000  ...  1598.000000  1598.000000\n",
            "mean        8.320213          0.527713  ...    10.423623     5.636421\n",
            "std         1.741489          0.179064  ...     1.065694     0.807665\n",
            "min         4.600000          0.120000  ...     8.400000     3.000000\n",
            "25%         7.100000          0.390000  ...     9.500000     5.000000\n",
            "50%         7.900000          0.520000  ...    10.200000     6.000000\n",
            "75%         9.200000          0.640000  ...    11.100000     6.000000\n",
            "max        15.900000          1.580000  ...    14.900000     8.000000\n",
            "\n",
            "[8 rows x 12 columns]\n"
          ],
          "name": "stdout"
        }
      ]
    },
    {
      "cell_type": "code",
      "metadata": {
        "colab": {
          "base_uri": "https://localhost:8080/"
        },
        "id": "mvhoAR5-8_Z7",
        "outputId": "0e93ebc8-713f-4430-a2ee-109a0ae31409"
      },
      "source": [
        "print(dataset.groupby('quality').size())\n",
        " #shows the distribution of data by its target variable(Quality[of the wine] in this case)"
      ],
      "execution_count": 8,
      "outputs": [
        {
          "output_type": "stream",
          "text": [
            "quality\n",
            "3     10\n",
            "4     53\n",
            "5    680\n",
            "6    638\n",
            "7    199\n",
            "8     18\n",
            "dtype: int64\n"
          ],
          "name": "stdout"
        }
      ]
    },
    {
      "cell_type": "markdown",
      "metadata": {
        "id": "ZVoolLUXGLy0"
      },
      "source": [
        "=========Completion of Listing 2============"
      ]
    },
    {
      "cell_type": "code",
      "metadata": {
        "colab": {
          "base_uri": "https://localhost:8080/",
          "height": 267
        },
        "id": "cLMVJeyxGOXO",
        "outputId": "1fd67b63-c45d-477a-e78f-74f2f657430d"
      },
      "source": [
        "#Listing 3: Univariate Plot\n",
        "\n",
        "boxplot = dataset.boxplot(column=names)\n",
        "plt.show()"
      ],
      "execution_count": 19,
      "outputs": [
        {
          "output_type": "display_data",
          "data": {
            "image/png": "[encoded data removed]",
            "text/plain": [
              "<Figure size 432x288 with 1 Axes>"
            ]
          },
          "metadata": {
            "tags": [],
            "needs_background": "light"
          }
        }
      ]
    },
    {
      "cell_type": "code",
      "metadata": {
        "id": "IOxcuBJ6GkU7"
      },
      "source": [
        ""
      ],
      "execution_count": null,
      "outputs": []
    }
  ]
}